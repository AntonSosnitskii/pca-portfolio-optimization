{
 "cells": [
  {
   "cell_type": "code",
   "execution_count": 1,
   "id": "6acb577b",
   "metadata": {},
   "outputs": [
    {
     "name": "stderr",
     "output_type": "stream",
     "text": [
      "C:\\Users\\anton\\anaconda3\\lib\\site-packages\\pandas\\core\\computation\\expressions.py:21: UserWarning: Pandas requires version '2.8.4' or newer of 'numexpr' (version '2.8.3' currently installed).\n",
      "  from pandas.core.computation.check import NUMEXPR_INSTALLED\n",
      "C:\\Users\\anton\\anaconda3\\lib\\site-packages\\pandas\\core\\arrays\\masked.py:60: UserWarning: Pandas requires version '1.3.6' or newer of 'bottleneck' (version '1.3.5' currently installed).\n",
      "  from pandas.core import (\n"
     ]
    },
    {
     "data": {
      "text/html": [
       "<div>\n",
       "<style scoped>\n",
       "    .dataframe tbody tr th:only-of-type {\n",
       "        vertical-align: middle;\n",
       "    }\n",
       "\n",
       "    .dataframe tbody tr th {\n",
       "        vertical-align: top;\n",
       "    }\n",
       "\n",
       "    .dataframe thead th {\n",
       "        text-align: right;\n",
       "    }\n",
       "</style>\n",
       "<table border=\"1\" class=\"dataframe\">\n",
       "  <thead>\n",
       "    <tr style=\"text-align: right;\">\n",
       "      <th></th>\n",
       "      <th>ALRS</th>\n",
       "      <th>ROLO</th>\n",
       "      <th>ISKJ</th>\n",
       "      <th>GAZP</th>\n",
       "      <th>LSRG</th>\n",
       "      <th>PIKK</th>\n",
       "      <th>SBER</th>\n",
       "      <th>MOEX</th>\n",
       "      <th>MGNT</th>\n",
       "      <th>GCHE</th>\n",
       "    </tr>\n",
       "  </thead>\n",
       "  <tbody>\n",
       "    <tr>\n",
       "      <th>0</th>\n",
       "      <td>0.013102</td>\n",
       "      <td>-0.012078</td>\n",
       "      <td>0.001335</td>\n",
       "      <td>-0.003099</td>\n",
       "      <td>0.078053</td>\n",
       "      <td>-0.005079</td>\n",
       "      <td>-0.006239</td>\n",
       "      <td>0.045146</td>\n",
       "      <td>-0.071908</td>\n",
       "      <td>0.037924</td>\n",
       "    </tr>\n",
       "    <tr>\n",
       "      <th>1</th>\n",
       "      <td>-0.062792</td>\n",
       "      <td>-0.021601</td>\n",
       "      <td>0.054785</td>\n",
       "      <td>-0.015193</td>\n",
       "      <td>-0.012238</td>\n",
       "      <td>-0.010521</td>\n",
       "      <td>0.010576</td>\n",
       "      <td>0.049931</td>\n",
       "      <td>-0.069557</td>\n",
       "      <td>0.022032</td>\n",
       "    </tr>\n",
       "    <tr>\n",
       "      <th>2</th>\n",
       "      <td>-0.010933</td>\n",
       "      <td>-0.023452</td>\n",
       "      <td>0.009813</td>\n",
       "      <td>-0.031911</td>\n",
       "      <td>0.023256</td>\n",
       "      <td>0.006003</td>\n",
       "      <td>0.022033</td>\n",
       "      <td>-0.027305</td>\n",
       "      <td>0.027750</td>\n",
       "      <td>-0.046118</td>\n",
       "    </tr>\n",
       "    <tr>\n",
       "      <th>3</th>\n",
       "      <td>-0.078282</td>\n",
       "      <td>-0.006166</td>\n",
       "      <td>-0.033670</td>\n",
       "      <td>0.023590</td>\n",
       "      <td>0.001613</td>\n",
       "      <td>-0.003150</td>\n",
       "      <td>0.006485</td>\n",
       "      <td>-0.030803</td>\n",
       "      <td>0.003764</td>\n",
       "      <td>0.048348</td>\n",
       "    </tr>\n",
       "    <tr>\n",
       "      <th>4</th>\n",
       "      <td>0.040595</td>\n",
       "      <td>-0.020534</td>\n",
       "      <td>0.062573</td>\n",
       "      <td>0.062786</td>\n",
       "      <td>0.000000</td>\n",
       "      <td>-0.012442</td>\n",
       "      <td>-0.065311</td>\n",
       "      <td>-0.056681</td>\n",
       "      <td>0.094780</td>\n",
       "      <td>-0.033898</td>\n",
       "    </tr>\n",
       "  </tbody>\n",
       "</table>\n",
       "</div>"
      ],
      "text/plain": [
       "       ALRS      ROLO      ISKJ      GAZP      LSRG      PIKK      SBER  \\\n",
       "0  0.013102 -0.012078  0.001335 -0.003099  0.078053 -0.005079 -0.006239   \n",
       "1 -0.062792 -0.021601  0.054785 -0.015193 -0.012238 -0.010521  0.010576   \n",
       "2 -0.010933 -0.023452  0.009813 -0.031911  0.023256  0.006003  0.022033   \n",
       "3 -0.078282 -0.006166 -0.033670  0.023590  0.001613 -0.003150  0.006485   \n",
       "4  0.040595 -0.020534  0.062573  0.062786  0.000000 -0.012442 -0.065311   \n",
       "\n",
       "       MOEX      MGNT      GCHE  \n",
       "0  0.045146 -0.071908  0.037924  \n",
       "1  0.049931 -0.069557  0.022032  \n",
       "2 -0.027305  0.027750 -0.046118  \n",
       "3 -0.030803  0.003764  0.048348  \n",
       "4 -0.056681  0.094780 -0.033898  "
      ]
     },
     "execution_count": 1,
     "metadata": {},
     "output_type": "execute_result"
    }
   ],
   "source": [
    "import pandas as pd\n",
    "\n",
    "data = pd.read_excel(\"Данные 1.xlsx\")\n",
    "data['DATE'] = pd.to_datetime(data['DATE'], format='%Y-%m-%d')\n",
    "data.sort_values(by=\"DATE\",inplace=True)\n",
    "data.drop([\"Unnamed: 0\",\"DATE\"],axis=1,inplace=True)\n",
    "data.reset_index(drop=True,inplace=True)\n",
    "data.head()"
   ]
  },
  {
   "cell_type": "code",
   "execution_count": 2,
   "id": "8ec96d6f",
   "metadata": {},
   "outputs": [],
   "source": [
    "train_data = data[:len(data)//2]\n",
    "test_data = data[len(data)//2:]"
   ]
  },
  {
   "cell_type": "code",
   "execution_count": 3,
   "id": "34d87022",
   "metadata": {},
   "outputs": [],
   "source": [
    "import numpy as np\n",
    "\n",
    "cov_matrix = train_data.cov()\n",
    "test_cov = test_data.cov()\n",
    "eigenvalues, eigenvectors = np.linalg.eigh(cov_matrix)\n",
    "# Сортировка собственных значений и векторов по убыванию\n",
    "sorted_indices = np.argsort(eigenvalues)[::-1]\n",
    "eigenvalues = eigenvalues[sorted_indices]\n",
    "eigenvectors = eigenvectors[:, sorted_indices]"
   ]
  },
  {
   "cell_type": "code",
   "execution_count": 53,
   "id": "ffd1d6e6",
   "metadata": {},
   "outputs": [],
   "source": [
    "def online_gradient_descent(R_generator, b, I_feat, u_list, max_iters=100):\n",
    "    \"\"\"\n",
    "    Выполняет онлайн-градиентный спуск с проекцией для минимизации:\n",
    "        min sum_{j=1}^{N} ( <g_j, μ> )^2,  при условии <I_hat, μ> = 1\n",
    "    \n",
    "    Аргументы:\n",
    "      R_generator  - функция, возвращающая случайное наблюдение R (вектор размерности d)\n",
    "      b            - вектор b (размерность d)\n",
    "      I_feat       - базовый вектор признаков (например, вектор единиц, размерность d)\n",
    "      u_list       - список из m векторов (например, первые m собственных векторов)\n",
    "      max_iters    - число итераций (по умолчанию 30)\n",
    "    \n",
    "    Возвращает:\n",
    "      μ       - финальный вектор параметров (размер m+1)\n",
    "      errors  - список значений ошибки на каждой итерации\n",
    "    \"\"\"\n",
    "    m = len(u_list)\n",
    "    # Формируем вектор для проекции: I_hat = [<I_feat, I_feat>, <u_list[0], I_feat>, ..., <u_list[m-1], I_feat>]\n",
    "    I_hat = np.zeros(m + 2)\n",
    "    I_hat[0] = np.dot(b, I_feat)\n",
    "    I_hat[1] = np.dot(I_feat, I_feat)\n",
    "    for i in range(m):\n",
    "        I_hat[i+2] = np.dot(u_list[i], I_feat)\n",
    "    \n",
    "    # Нормировочная константа, чтобы обеспечить условие <I_hat, μ> = 1\n",
    "    S = I_hat.sum()\n",
    "    mu = np.ones(m + 2) / S\n",
    "    errors = []\n",
    "    error = 0\n",
    "    R = R_generator() \n",
    "    b = R  # на первом шаге\n",
    "    alpha = 0.05   # параметр сглаживания\n",
    "    \n",
    "    for j in range(max_iters):\n",
    "        R = R_generator()       # получаем наблюдение R (размер d)\n",
    "        diff = R - b            # разница R - b\n",
    "        \n",
    "        b = alpha * R + (1 - alpha) * b\n",
    "        b_hat = np.zeros(m + 2)\n",
    "        b_hat[0] = np.dot(b, b)\n",
    "        b_hat[1] = np.dot(I_feat, b)\n",
    "        for i in range(m):\n",
    "            b_hat[i+2] = np.dot(u_list[i], I_feat)\n",
    "\n",
    "        # Формируем вектор градиента g:\n",
    "        # g[0] = <I_feat, R-b>, g[i+1] = <u_list[i], R-b>\n",
    "        g = np.zeros(m + 2)\n",
    "        g[0] = np.dot(b, diff)\n",
    "        g[1] = np.dot(I_feat, diff)\n",
    "        for i in range(m):\n",
    "            g[i+2] = np.dot(u_list[i], diff)\n",
    "        \n",
    "        # Выбираем шаг h \n",
    "        h = 1 / (j + 1)\n",
    "        grad_scale = np.dot(g, mu)\n",
    "        # Градиентный шаг:\n",
    "        v = mu - h * grad_scale * g\n",
    "        \n",
    "        a1 = np.dot(I_hat,I_hat)\n",
    "        b1 = np.dot(b_hat,I_hat)\n",
    "        c1 = 1 - np.dot(v,I_hat)\n",
    "        \n",
    "        a2 = np.dot(b_hat,I_hat)\n",
    "        b2 = np.dot(b_hat,b_hat)\n",
    "        c2 = 0 - np.dot(v,b_hat)\n",
    "        \n",
    "        solution = np.linalg.solve([[a1,b1],[a2,b2]], [c1,c2])\n",
    "        \n",
    "        mu = v + solution[0]*I_hat + solution[1]*b_hat\n",
    "        \n",
    "        \n",
    "        # Ошибка на текущей итерации:\n",
    "        err = np.dot(g, mu) ** 2\n",
    "        error += err\n",
    "        errors.append(error/(j+1))\n",
    "        print(f\"Epoch: {j + 1}, error: {err}\")\n",
    "    \n",
    "    return mu, errors"
   ]
  },
  {
   "cell_type": "code",
   "execution_count": 58,
   "id": "055d46f7",
   "metadata": {},
   "outputs": [],
   "source": [
    "import random\n",
    "\n",
    "m = 4  # число выбранных собственных векторов\n",
    "# Размерность (количество признаков) определяется по количеству строк в eigenvectors\n",
    "d = eigenvectors.shape[0]\n",
    "# Вектор I_feat – базовый вектор признаков (например, вектор единиц)\n",
    "I_feat = np.ones(d)\n",
    "# Список u_list – первые m собственных векторов\n",
    "u_list = [eigenvectors[:, i] for i in range(m)]\n",
    "# Вектор b (например, вектор единиц той же размерности)\n",
    "b = np.ones(d)\n",
    "    \n",
    "# Генератор наблюдений R: функция, возвращающая случайный вектор размерности d\n",
    "def R_gen():\n",
    "    return random.choice(data.values)"
   ]
  },
  {
   "cell_type": "code",
   "execution_count": 59,
   "id": "f69e5349",
   "metadata": {},
   "outputs": [
    {
     "name": "stdout",
     "output_type": "stream",
     "text": [
      "Epoch: 1, error: 0.001720316159152605\n",
      "Epoch: 2, error: 8.74200393810972e-05\n",
      "Epoch: 3, error: 0.0004986715027512162\n",
      "Epoch: 4, error: 1.3205523692583334e-05\n",
      "Epoch: 5, error: 9.325309298705388e-06\n",
      "Epoch: 6, error: 6.729177521208902e-05\n",
      "Epoch: 7, error: 0.0001815413952602516\n",
      "Epoch: 8, error: 2.7210804639913263e-06\n",
      "Epoch: 9, error: 7.286233887249754e-07\n",
      "Epoch: 10, error: 4.5031415762698374e-05\n",
      "Epoch: 11, error: 2.7888293952689638e-06\n",
      "Epoch: 12, error: 7.452738949104556e-05\n",
      "Epoch: 13, error: 1.8537370957832627e-08\n",
      "Epoch: 14, error: 4.8994814053152157e-05\n",
      "Epoch: 15, error: 2.7207484141035397e-06\n",
      "Epoch: 16, error: 0.00020265296942106547\n",
      "Epoch: 17, error: 3.637552128774599e-05\n",
      "Epoch: 18, error: 2.8253526171820583e-06\n",
      "Epoch: 19, error: 5.09532610602595e-06\n",
      "Epoch: 20, error: 0.00020301293673052507\n"
     ]
    }
   ],
   "source": [
    "mu, errors = online_gradient_descent(R_gen, b, I_feat, u_list, max_iters=20)"
   ]
  },
  {
   "cell_type": "code",
   "execution_count": 60,
   "id": "d99a09f9",
   "metadata": {},
   "outputs": [
    {
     "name": "stdout",
     "output_type": "stream",
     "text": [
      "\n",
      "Финальный вектор параметров φ: [0.06046816 0.03948561 0.05372095 0.03483992 0.03767878 0.04464838]\n",
      "Результирующий портфельный вектор x: [0.07724687 0.15693067 0.06167415 0.08685245 0.11437112 0.0910425\n",
      " 0.1250465  0.11746982 0.07012512 0.09924081]\n",
      "Риск портфеля 0.000578885805247068\n",
      "Сумма x 1.0000000000000002\n"
     ]
    }
   ],
   "source": [
    "x = mu[0] * b.copy() + mu[1] * I_feat.copy()\n",
    "for i in range(m):\n",
    "    x += mu[i + 2] * u_list[i]\n",
    "    \n",
    "print(\"\\nФинальный вектор параметров φ:\", mu)\n",
    "print(\"Результирующий портфельный вектор x:\", x)\n",
    "print(\"Риск портфеля\", np.dot(np.dot(cov_matrix,x),x))\n",
    "print(\"Сумма x\", x.sum())"
   ]
  },
  {
   "cell_type": "code",
   "execution_count": 61,
   "id": "d8b753a2",
   "metadata": {},
   "outputs": [
    {
     "data": {
      "image/png": "[encoded data removed]",
      "text/plain": [
       "<Figure size 640x480 with 1 Axes>"
      ]
     },
     "metadata": {},
     "output_type": "display_data"
    }
   ],
   "source": [
    "import matplotlib.pyplot as plt\n",
    "\n",
    "plt.xlabel(\"Итерация\")\n",
    "plt.ylabel(\"Ошибка\")\n",
    "plt.plot(errors)\n",
    "plt.savefig(\"mean-varinace_graph.png\", dpi=300)"
   ]
  },
  {
   "cell_type": "code",
   "execution_count": 62,
   "id": "0920d2e4",
   "metadata": {},
   "outputs": [
    {
     "data": {
      "image/png": "[encoded data removed]",
      "text/plain": [
       "<Figure size 640x480 with 1 Axes>"
      ]
     },
     "metadata": {},
     "output_type": "display_data"
    }
   ],
   "source": [
    "plt.bar(data.columns, x)\n",
    "plt.ylabel('Доля в портфеле')\n",
    "plt.xlabel('Активы')\n",
    "plt.ylim(0, max(x) + 0.1)\n",
    "\n",
    "# Общая аннотация\n",
    "plt.title(f'Риск портфеля: {np.dot(np.dot(test_cov,x),x):.6f} | Сумма весов: {x.sum():.2f}', fontsize=10, y=0.94)\n",
    "\n",
    "plt.savefig(\"portfolio_mean_variance.png\", dpi=300)\n",
    "plt.show()"
   ]
  },
  {
   "cell_type": "code",
   "execution_count": null,
   "id": "d71d1dfb",
   "metadata": {},
   "outputs": [],
   "source": []
  },
  {
   "cell_type": "code",
   "execution_count": null,
   "id": "c7c128ab",
   "metadata": {},
   "outputs": [],
   "source": []
  }
 ],
 "metadata": {
  "kernelspec": {
   "display_name": "Python 3 (ipykernel)",
   "language": "python",
   "name": "python3"
  },
  "language_info": {
   "codemirror_mode": {
    "name": "ipython",
    "version": 3
   },
   "file_extension": ".py",
   "mimetype": "text/x-python",
   "name": "python",
   "nbconvert_exporter": "python",
   "pygments_lexer": "ipython3",
   "version": "3.9.13"
  }
 },
 "nbformat": 4,
 "nbformat_minor": 5
}
